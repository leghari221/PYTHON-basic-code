{
  "nbformat": 4,
  "nbformat_minor": 0,
  "metadata": {
    "colab": {
      "provenance": []
    },
    "kernelspec": {
      "name": "python3",
      "display_name": "Python 3"
    },
    "language_info": {
      "name": "python"
    }
  },
  "cells": [
    {
      "cell_type": "code",
      "execution_count": 1,
      "metadata": {
        "colab": {
          "base_uri": "https://localhost:8080/"
        },
        "id": "tXJ58NspViHR",
        "outputId": "54fb48a4-1939-4619-966d-db16902e4faf"
      },
      "outputs": [
        {
          "output_type": "stream",
          "name": "stdout",
          "text": [
            "Enter the first number4\n",
            "Enter the second number5\n",
            "Product of 4 and 5 is 20.0\n"
          ]
        }
      ],
      "source": [
        "num_1 = input(\"Enter the first number\")\n",
        "num_2 = input(\"Enter the second number\")\n",
        "\n",
        "product = float(num_1) * float(num_2)\n",
        "\n",
        "print(\"Product of {} and {} is {}\".format(num_1, num_2,product))"
      ]
    }
  ]
}